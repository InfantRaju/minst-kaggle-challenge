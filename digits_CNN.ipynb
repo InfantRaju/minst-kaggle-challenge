{
  "nbformat": 4,
  "nbformat_minor": 0,
  "metadata": {
    "colab": {
      "name": "digits_CNN.ipynb",
      "version": "0.3.2",
      "provenance": [],
      "collapsed_sections": []
    },
    "kernelspec": {
      "name": "python3",
      "display_name": "Python 3"
    }
  },
  "cells": [
    {
      "cell_type": "code",
      "metadata": {
        "id": "laHOL0oF6cjY",
        "colab_type": "code",
        "colab": {}
      },
      "source": [
        "import pandas as pd\n",
        "import numpy as np\n",
        "import seaborn as sns\n",
        "from sklearn.model_selection import train_test_split\n",
        "from sklearn.metrics import confusion_matrix\n",
        "import itertools\n",
        "from keras.utils.np_utils import to_categorical\n",
        "from keras.models import Sequential\n",
        "from keras.layers import Dense, Dropout, Flatten, Conv2D, MaxPool2D\n",
        "from keras.optimizers import RMSprop\n",
        "from keras.preprocessing.image import ImageDataGenerator\n",
        "from keras.callbacks import ReduceLROnPlateau"
      ],
      "execution_count": 0,
      "outputs": []
    },
    {
      "cell_type": "code",
      "metadata": {
        "id": "ZlbkW4eW7Koe",
        "colab_type": "code",
        "colab": {}
      },
      "source": [
        "train_path = \"train.csv\"\n",
        "test_path = \"test.csv\"\n",
        "train_data = pd.read_csv(train_path)\n",
        "test_data = pd.read_csv(test_path)\n",
        "\n",
        "Y_train = train_data.label\n",
        "X_train = train_data.drop(columns=[\"label\"])"
      ],
      "execution_count": 0,
      "outputs": []
    },
    {
      "cell_type": "code",
      "metadata": {
        "id": "gTdnovb77XhF",
        "colab_type": "code",
        "colab": {}
      },
      "source": [
        "X_train_nor = X_train / 255.0\n",
        "test_data_nor = test_data / 255.0"
      ],
      "execution_count": 0,
      "outputs": []
    },
    {
      "cell_type": "markdown",
      "metadata": {
        "id": "Z5bMDBl0XisS",
        "colab_type": "text"
      },
      "source": [
        ""
      ]
    },
    {
      "cell_type": "code",
      "metadata": {
        "id": "PpJOtZXI7msS",
        "colab_type": "code",
        "outputId": "380529ef-0e3f-4152-e63f-f1b4876e6a51",
        "colab": {
          "base_uri": "https://localhost:8080/",
          "height": 51
        }
      },
      "source": [
        "X_train_nor_reshape = X_train_nor.values.reshape(-1, 28, 28 ,1)\n",
        "X_test_data_nor_reshape = test_data_nor.values.reshape(-1, 28, 28, 1)\n",
        "print(X_train_nor_reshape.shape)\n",
        "print(X_test_data_nor_reshape.shape)\n"
      ],
      "execution_count": 19,
      "outputs": [
        {
          "output_type": "stream",
          "text": [
            "(42000, 28, 28, 1)\n",
            "(28000, 28, 28, 1)\n"
          ],
          "name": "stdout"
        }
      ]
    },
    {
      "cell_type": "code",
      "metadata": {
        "id": "s8Is6uUmcTmr",
        "colab_type": "code",
        "colab": {}
      },
      "source": [
        "Y_train_categorical = to_categorical(Y_train, num_classes=10)\n",
        "X_test = X_test_data_nor_reshape"
      ],
      "execution_count": 0,
      "outputs": []
    },
    {
      "cell_type": "code",
      "metadata": {
        "id": "RGs58hXc7sqq",
        "colab_type": "code",
        "colab": {}
      },
      "source": [
        "my_model = Sequential()\n",
        "my_model.add(Conv2D(activation='relu', padding='Same', filters=32, kernel_size=(5,5), input_shape=(28,28,1)))\n",
        "my_model.add(Conv2D(activation='relu', padding='Same', filters=32, kernel_size=(5,5)))\n",
        "my_model.add(MaxPool2D(pool_size=(2,2)))\n",
        "my_model.add(Dropout(0.25))\n",
        "\n",
        "my_model.add(Conv2D(filters=64, kernel_size=(3,3), padding='Same', activation='relu'))\n",
        "my_model.add(Conv2D(filters=64, kernel_size=(3,3), padding='Same', activation='relu'))\n",
        "my_model.add(MaxPool2D(pool_size=(2,2), strides=(2,2)))\n",
        "my_model.add(Dropout(0.25))\n",
        "\n",
        "my_model.add(Flatten())\n",
        "my_model.add(Dense(265, activation='relu'))\n",
        "my_model.add(Dropout(0.25))\n",
        "my_model.add(Dense(10, activation='softmax'))"
      ],
      "execution_count": 0,
      "outputs": []
    },
    {
      "cell_type": "code",
      "metadata": {
        "id": "cm7-Gt-sYlTx",
        "colab_type": "code",
        "colab": {}
      },
      "source": [
        "my_model.compile(optimizer=RMSprop(lr=0.001, rho=0.9, epsilon=1e-08, decay=0.0), loss='categorical_crossentropy', metrics=['accuracy'])"
      ],
      "execution_count": 0,
      "outputs": []
    },
    {
      "cell_type": "code",
      "metadata": {
        "id": "VmelrDvnYP6e",
        "colab_type": "code",
        "outputId": "607bfceb-8936-4f61-82e1-0292d01246c5",
        "colab": {
          "base_uri": "https://localhost:8080/",
          "height": 102
        }
      },
      "source": [
        "my_model.fit(x=X_train_nor_reshape,y=Y_train_categorical,batch_size =128,epochs=2, verbose=True) "
      ],
      "execution_count": 25,
      "outputs": [
        {
          "output_type": "stream",
          "text": [
            "Epoch 1/2\n",
            "42000/42000 [==============================] - 328s 8ms/step - loss: 0.0368 - acc: 0.9884\n",
            "Epoch 2/2\n",
            "42000/42000 [==============================] - 324s 8ms/step - loss: 0.0321 - acc: 0.9908\n"
          ],
          "name": "stdout"
        },
        {
          "output_type": "execute_result",
          "data": {
            "text/plain": [
              "<keras.callbacks.History at 0x7f4a4290c358>"
            ]
          },
          "metadata": {
            "tags": []
          },
          "execution_count": 25
        }
      ]
    },
    {
      "cell_type": "code",
      "metadata": {
        "id": "jgkyWcCycLgO",
        "colab_type": "code",
        "colab": {}
      },
      "source": [
        "results = my_model.predict(X_test)\n",
        "\n",
        "# select the indix with the maximum probability\n",
        "results = np.argmax(results,axis=1)\n",
        "\n",
        "results = pd.Series(results,name=\"Label\")"
      ],
      "execution_count": 0,
      "outputs": []
    },
    {
      "cell_type": "code",
      "metadata": {
        "id": "rVmXkLVWgib4",
        "colab_type": "code",
        "colab": {}
      },
      "source": [
        "submission = pd.concat([pd.Series(range(1,28001),name = \"ImageId\"),results],axis = 1)\n",
        "\n",
        "submission.to_csv(\"My_submission.csv\",index=False)"
      ],
      "execution_count": 0,
      "outputs": []
    }
  ]
}